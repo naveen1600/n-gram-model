{
 "cells": [
  {
   "cell_type": "markdown",
   "id": "fa2bbe4b-d06c-4c8f-8db1-05a17a985789",
   "metadata": {},
   "source": [
    "## Define the Models and the Necessary Functions"
   ]
  },
  {
   "cell_type": "code",
   "execution_count": 1,
   "id": "a973881c-9e16-4a5b-92d7-66cd8cdbcba2",
   "metadata": {},
   "outputs": [],
   "source": [
    "import math\n",
    "from collections import Counter\n",
    "import matplotlib.pyplot as plt"
   ]
  },
  {
   "cell_type": "code",
   "execution_count": 2,
   "id": "560f94ed-eefe-4f7a-bdb7-eed2d4c00db5",
   "metadata": {},
   "outputs": [],
   "source": [
    "class UnigramModel:\n",
    "    def __init__(self, unigram_freq, total_unigrams):\n",
    "        self.unigram_freq = unigram_freq\n",
    "        self.total_unigrams = total_unigrams\n",
    "        self.add_k = 0\n",
    "\n",
    "    def set_addk(self, k):\n",
    "        self.add_k = k\n",
    "\n",
    "    def probability(self, unigram):\n",
    "        # check if ngram is a single word or two word\n",
    "        word_list = unigram.split(\" \")\n",
    "        if len(word_list) != 1:\n",
    "            raise Exception(\"Unigram probability needs one word exactly.\")\n",
    "\n",
    "        # return probability\n",
    "        unigram_count = self.unigram_freq.get(word_list[0], self.unigram_freq.get('<UNK>', 0))\n",
    "        V = len(self.unigram_freq.keys())\n",
    "\n",
    "        # this is using smoothing formula (but if add_k is 0 then it will act as unsmoothed version)\n",
    "        p = (unigram_count + self.add_k) / (self.total_unigrams + self.add_k * V)\n",
    "\n",
    "        return p\n",
    "\n",
    "    def ppl(self, test_tokens, total_tokens):\n",
    "        log_prob_sum = 0\n",
    "        # we are doing log calculations to avoid underflow of value\n",
    "        for unigram in test_tokens:\n",
    "            p = self.probability(unigram)\n",
    "            if p > 0:\n",
    "                log_prob_sum += math.log(p)\n",
    "            else:\n",
    "                raise Exception(\"Zero probability encountered! Apply unknown word handling\")\n",
    "\n",
    "        return math.exp(-1 * log_prob_sum / total_tokens)\n",
    "\n",
    "\n",
    "class BigramModel:\n",
    "    def __init__(self, bigram_freq, total_bigrams, unigram_model):\n",
    "        self.unigram_model = unigram_model\n",
    "        self.bigram_freq = bigram_freq\n",
    "        self.total_bigrams = total_bigrams\n",
    "        self.add_k = 0\n",
    "\n",
    "    def set_addk(self, k):\n",
    "        self.add_k = k\n",
    "\n",
    "    def probability(self, bigram):\n",
    "        # check if ngram is a single word or two word\n",
    "        word_list = bigram.split(\" \")\n",
    "        if len(word_list) != 2:\n",
    "            raise Exception(\"Bigram probability needs two words exactly.\")\n",
    "\n",
    "        # handle unknown\n",
    "        if word_list[0] not in self.unigram_model.unigram_freq:\n",
    "            word_list[0] = \"<UNK>\"\n",
    "        if word_list[1] not in self.unigram_model.unigram_freq:\n",
    "            word_list[1] = \"<UNK>\"\n",
    "\n",
    "        bigram = \" \".join(word_list)\n",
    "\n",
    "        # return probability\n",
    "        bigram_count = self.bigram_freq.get(bigram, 0)\n",
    "        unigram_count = self.unigram_model.unigram_freq.get(word_list[0], 0)\n",
    "        V = len(self.unigram_model.unigram_freq.keys())\n",
    "\n",
    "        # this is using smoothing formula (but if add_k is 0 then it will act as unsmoothed version)\n",
    "        p = (bigram_count + self.add_k) / (unigram_count + self.add_k * V)\n",
    "\n",
    "        return p\n",
    "\n",
    "    def ppl(self, test_tokens, total_tokens):\n",
    "        log_prob_sum = 0\n",
    "        # we are doing log calculations to avoid underflow of value\n",
    "        for bigram in test_tokens:\n",
    "            p = self.probability(bigram)\n",
    "            if p > 0:\n",
    "                log_prob_sum += math.log(p)\n",
    "            else:\n",
    "                raise Exception(\"Zero probability encountered! Apply unknown word handling\")\n",
    "\n",
    "        return math.exp(-1 * log_prob_sum / total_tokens)\n",
    "\n",
    "\n",
    "def processData(filePath):\n",
    "    data = []\n",
    "\n",
    "    with open(filePath, \"r\") as file:\n",
    "        content = file.readlines()\n",
    "\n",
    "    for line in content:\n",
    "        line = line.lower()\n",
    "        data.append([\"<s>\"] + line.strip(\"\\n\").split(\" \") + [\"</s>\"])\n",
    "\n",
    "    flattened_data = [word for review in data for word in review]\n",
    "\n",
    "    return flattened_data\n",
    "\n",
    "\n",
    "def CorpusCount(data):\n",
    "    unigrams = Counter(data)\n",
    "    total_unigrams = len(data)\n",
    "    bigrams = {}\n",
    "    total_bigrams = 0\n",
    "    previousWord = None\n",
    "    for currentWord in data:\n",
    "        if previousWord is not None and currentWord != '<s>':\n",
    "            bigram = previousWord + ' ' + currentWord\n",
    "            total_bigrams += 1\n",
    "            if bigram in bigrams:\n",
    "                bigrams[bigram] += 1\n",
    "            else:\n",
    "                bigrams[bigram] = 1\n",
    "        previousWord = currentWord\n",
    "    return unigrams, total_unigrams, bigrams, total_bigrams\n",
    "\n",
    "\n",
    "def generate_bigrams(data):\n",
    "    bigrams = []\n",
    "    total_bigrams = 0\n",
    "    previousWord = None\n",
    "    for currentWord in data:\n",
    "        if previousWord is not None and currentWord != '<s>':\n",
    "            bigram = previousWord + ' ' + currentWord\n",
    "            total_bigrams += 1\n",
    "            bigrams.append(bigram)\n",
    "        previousWord = currentWord\n",
    "    return bigrams, total_bigrams\n",
    "\n",
    "\n",
    "def handle_unknown_words(unigram_freq, threshold, tokenList):\n",
    "    for index, token in enumerate(tokenList):\n",
    "        if unigram_freq[token] <= threshold:\n",
    "            tokenList[index] = \"<UNK>\"\n",
    "    return tokenList"
   ]
  },
  {
   "cell_type": "markdown",
   "id": "020e4417-c36a-49c2-af60-733939307766",
   "metadata": {},
   "source": [
    "## Load and Preprocess Data, Initialize the Models"
   ]
  },
  {
   "cell_type": "code",
   "execution_count": 3,
   "id": "40532127-5f3b-43d8-bea5-95859114cc1b",
   "metadata": {},
   "outputs": [],
   "source": [
    "# Load training data\n",
    "dataset_path = \"data/train.txt\"\n",
    "train = processData(dataset_path)\n",
    "\n",
    "# Load test data\n",
    "test_path = \"data/val.txt\"\n",
    "test = processData(test_path)\n",
    "\n",
    "# get the count of each unigram and bigram\n",
    "unigram_freq, total_unigrams, bigram_freq, total_bigrams = CorpusCount(train)\n",
    "\n",
    "# unsmoothed unigram and bigram model\n",
    "ugm = UnigramModel(unigram_freq=unigram_freq, total_unigrams=total_unigrams)\n",
    "bgm = BigramModel(bigram_freq=bigram_freq, total_bigrams=total_bigrams, unigram_model=ugm)"
   ]
  },
  {
   "cell_type": "markdown",
   "id": "64e17fa5-6860-4f92-b894-c6349d1e3bfa",
   "metadata": {},
   "source": [
    "## Compute Training Set Perplexity"
   ]
  },
  {
   "cell_type": "code",
   "execution_count": 4,
   "id": "420c5937-8f69-4e8f-897c-8fe178c0ef42",
   "metadata": {},
   "outputs": [
    {
     "name": "stdout",
     "output_type": "stream",
     "text": [
      "Training set PPL for Unigram model is 447.5146217518235\n",
      "Training set PPL for Bigram model is 30.652617518206917\n"
     ]
    }
   ],
   "source": [
    "# Compute training set perplexity\n",
    "train_bigrams, train_total_bigrams = generate_bigrams(train)\n",
    "train_unigrams, train_total_unigrams = train, len(train)\n",
    "\n",
    "print(\"Training set PPL for Unigram model is {}\".format(str(ugm.ppl(test_tokens=train_unigrams,\n",
    "                                                                  total_tokens=train_total_unigrams))))\n",
    "\n",
    "print(\"Training set PPL for Bigram model is {}\".format(str(bgm.ppl(test_tokens=train_bigrams,\n",
    "                                                                  total_tokens=train_total_bigrams))))"
   ]
  },
  {
   "cell_type": "markdown",
   "id": "6ad91ffa-d831-4f67-b6e6-94241981cffe",
   "metadata": {},
   "source": [
    "## Compute Test Set Perplexity for Different Scenarios"
   ]
  },
  {
   "cell_type": "code",
   "execution_count": 5,
   "id": "d7f79870-77fe-46eb-a845-c1ff0463841e",
   "metadata": {},
   "outputs": [],
   "source": [
    "# generate test unigram and bigram freq\n",
    "test_bigrams, test_total_bigrams = generate_bigrams(test)\n",
    "test_unigrams, test_total_unigrams = test, len(test)"
   ]
  },
  {
   "cell_type": "markdown",
   "id": "9d495aa9-55c1-4b83-b083-6056407e55c6",
   "metadata": {},
   "source": [
    "### Unsmoothed Unigram and Bigram"
   ]
  },
  {
   "cell_type": "code",
   "execution_count": 6,
   "id": "59d541a7-8a20-4cca-a651-598f09b83b5e",
   "metadata": {},
   "outputs": [
    {
     "ename": "Exception",
     "evalue": "Zero probability encountered! Apply unknown word handling",
     "output_type": "error",
     "traceback": [
      "\u001b[0;31m---------------------------------------------------------------------------\u001b[0m",
      "\u001b[0;31mException\u001b[0m                                 Traceback (most recent call last)",
      "Cell \u001b[0;32mIn[6], line 1\u001b[0m\n\u001b[0;32m----> 1\u001b[0m \u001b[38;5;28mprint\u001b[39m(\u001b[38;5;124m\"\u001b[39m\u001b[38;5;124mPPL for unsmoothed Unigram model is \u001b[39m\u001b[38;5;132;01m{}\u001b[39;00m\u001b[38;5;124m\"\u001b[39m\u001b[38;5;241m.\u001b[39mformat(\u001b[38;5;28mstr\u001b[39m(\u001b[43mugm\u001b[49m\u001b[38;5;241;43m.\u001b[39;49m\u001b[43mppl\u001b[49m\u001b[43m(\u001b[49m\u001b[43mtest_tokens\u001b[49m\u001b[38;5;241;43m=\u001b[39;49m\u001b[43mtest_unigrams\u001b[49m\u001b[43m,\u001b[49m\n\u001b[1;32m      2\u001b[0m \u001b[43m                                                                  \u001b[49m\u001b[43mtotal_tokens\u001b[49m\u001b[38;5;241;43m=\u001b[39;49m\u001b[43mtest_total_unigrams\u001b[49m\u001b[43m)\u001b[49m)))\n\u001b[1;32m      4\u001b[0m \u001b[38;5;28mprint\u001b[39m(\u001b[38;5;124m\"\u001b[39m\u001b[38;5;124mPPL for unsmoothed Bigram model is \u001b[39m\u001b[38;5;132;01m{}\u001b[39;00m\u001b[38;5;124m\"\u001b[39m\u001b[38;5;241m.\u001b[39mformat(\u001b[38;5;28mstr\u001b[39m(bgm\u001b[38;5;241m.\u001b[39mppl(test_tokens\u001b[38;5;241m=\u001b[39mtest_bigrams,\n\u001b[1;32m      5\u001b[0m                                                                   total_tokens\u001b[38;5;241m=\u001b[39mtest_total_bigrams))))\n",
      "Cell \u001b[0;32mIn[2], line 33\u001b[0m, in \u001b[0;36mUnigramModel.ppl\u001b[0;34m(self, test_tokens, total_tokens)\u001b[0m\n\u001b[1;32m     31\u001b[0m         log_prob_sum \u001b[38;5;241m+\u001b[39m\u001b[38;5;241m=\u001b[39m math\u001b[38;5;241m.\u001b[39mlog(p)\n\u001b[1;32m     32\u001b[0m     \u001b[38;5;28;01melse\u001b[39;00m:\n\u001b[0;32m---> 33\u001b[0m         \u001b[38;5;28;01mraise\u001b[39;00m \u001b[38;5;167;01mException\u001b[39;00m(\u001b[38;5;124m\"\u001b[39m\u001b[38;5;124mZero probability encountered! Apply unknown word handling\u001b[39m\u001b[38;5;124m\"\u001b[39m)\n\u001b[1;32m     35\u001b[0m \u001b[38;5;28;01mreturn\u001b[39;00m math\u001b[38;5;241m.\u001b[39mexp(\u001b[38;5;241m-\u001b[39m\u001b[38;5;241m1\u001b[39m \u001b[38;5;241m*\u001b[39m log_prob_sum \u001b[38;5;241m/\u001b[39m total_tokens)\n",
      "\u001b[0;31mException\u001b[0m: Zero probability encountered! Apply unknown word handling"
     ]
    }
   ],
   "source": [
    "print(\"PPL for unsmoothed Unigram model is {}\".format(str(ugm.ppl(test_tokens=test_unigrams,\n",
    "                                                                  total_tokens=test_total_unigrams))))\n",
    "\n",
    "print(\"PPL for unsmoothed Bigram model is {}\".format(str(bgm.ppl(test_tokens=test_bigrams,\n",
    "                                                                  total_tokens=test_total_bigrams))))"
   ]
  },
  {
   "cell_type": "markdown",
   "id": "6e0ea6ef-49c5-465b-8cfa-be42e3e739c2",
   "metadata": {},
   "source": [
    "### Add-1 (Laplace) Smoothing"
   ]
  },
  {
   "cell_type": "code",
   "execution_count": 7,
   "id": "6aaa4a9e-1b8b-46fc-a0c3-c250690ed796",
   "metadata": {},
   "outputs": [
    {
     "name": "stdout",
     "output_type": "stream",
     "text": [
      "PPL for Laplace Smoothed Unigram model is 461.08291192772447\n",
      "PPL for Laplace Smoothed Bigram model is 1048.1314967506887\n"
     ]
    }
   ],
   "source": [
    "ugm.set_addk(1)\n",
    "bgm.set_addk(1)\n",
    "\n",
    "print(\"PPL for Laplace Smoothed Unigram model is {}\".format(str(ugm.ppl(test_tokens=test_unigrams,\n",
    "                                                                  total_tokens=test_total_unigrams))))\n",
    "\n",
    "print(\"PPL for Laplace Smoothed Bigram model is {}\".format(str(bgm.ppl(test_tokens=test_bigrams,\n",
    "                                                                  total_tokens=test_total_bigrams))))"
   ]
  },
  {
   "cell_type": "markdown",
   "id": "f4c8214a-2a90-4f3f-b2a0-76b511b9b0dc",
   "metadata": {},
   "source": [
    "### Handle Unknown Words for Unigram"
   ]
  },
  {
   "cell_type": "code",
   "execution_count": 8,
   "id": "d610fa0a-763e-44ba-97cf-19a742cab981",
   "metadata": {},
   "outputs": [
    {
     "name": "stdout",
     "output_type": "stream",
     "text": [
      "PPL for unknown word handled Unigram model is 292.1907013179355\n"
     ]
    },
    {
     "ename": "Exception",
     "evalue": "Zero probability encountered! Apply unknown word handling",
     "output_type": "error",
     "traceback": [
      "\u001b[0;31m---------------------------------------------------------------------------\u001b[0m",
      "\u001b[0;31mException\u001b[0m                                 Traceback (most recent call last)",
      "Cell \u001b[0;32mIn[8], line 8\u001b[0m\n\u001b[1;32m      4\u001b[0m bgm2 \u001b[38;5;241m=\u001b[39m BigramModel(bigram_freq\u001b[38;5;241m=\u001b[39mbigram_freq_unk, total_bigrams\u001b[38;5;241m=\u001b[39mtotal_bigrams_unk, unigram_model\u001b[38;5;241m=\u001b[39mugm2)\n\u001b[1;32m      6\u001b[0m \u001b[38;5;28mprint\u001b[39m(\u001b[38;5;124m\"\u001b[39m\u001b[38;5;124mPPL for unknown word handled Unigram model is \u001b[39m\u001b[38;5;132;01m{}\u001b[39;00m\u001b[38;5;124m\"\u001b[39m\u001b[38;5;241m.\u001b[39mformat(\u001b[38;5;28mstr\u001b[39m(ugm2\u001b[38;5;241m.\u001b[39mppl(test_tokens\u001b[38;5;241m=\u001b[39mtest_unigrams,\n\u001b[1;32m      7\u001b[0m                                                                          total_tokens\u001b[38;5;241m=\u001b[39mtest_total_unigrams))))\n\u001b[0;32m----> 8\u001b[0m \u001b[38;5;28mprint\u001b[39m(\u001b[38;5;124m\"\u001b[39m\u001b[38;5;124mPPL for unknown word handled Bigram model is \u001b[39m\u001b[38;5;132;01m{}\u001b[39;00m\u001b[38;5;124m\"\u001b[39m\u001b[38;5;241m.\u001b[39mformat(\u001b[38;5;28mstr\u001b[39m(\u001b[43mbgm2\u001b[49m\u001b[38;5;241;43m.\u001b[39;49m\u001b[43mppl\u001b[49m\u001b[43m(\u001b[49m\u001b[43mtest_tokens\u001b[49m\u001b[38;5;241;43m=\u001b[39;49m\u001b[43mtest_bigrams\u001b[49m\u001b[43m,\u001b[49m\n\u001b[1;32m      9\u001b[0m \u001b[43m                                                                        \u001b[49m\u001b[43mtotal_tokens\u001b[49m\u001b[38;5;241;43m=\u001b[39;49m\u001b[43mtest_total_bigrams\u001b[49m\u001b[43m)\u001b[49m)))\n",
      "Cell \u001b[0;32mIn[2], line 80\u001b[0m, in \u001b[0;36mBigramModel.ppl\u001b[0;34m(self, test_tokens, total_tokens)\u001b[0m\n\u001b[1;32m     78\u001b[0m         log_prob_sum \u001b[38;5;241m+\u001b[39m\u001b[38;5;241m=\u001b[39m math\u001b[38;5;241m.\u001b[39mlog(p)\n\u001b[1;32m     79\u001b[0m     \u001b[38;5;28;01melse\u001b[39;00m:\n\u001b[0;32m---> 80\u001b[0m         \u001b[38;5;28;01mraise\u001b[39;00m \u001b[38;5;167;01mException\u001b[39;00m(\u001b[38;5;124m\"\u001b[39m\u001b[38;5;124mZero probability encountered! Apply unknown word handling\u001b[39m\u001b[38;5;124m\"\u001b[39m)\n\u001b[1;32m     82\u001b[0m \u001b[38;5;28;01mreturn\u001b[39;00m math\u001b[38;5;241m.\u001b[39mexp(\u001b[38;5;241m-\u001b[39m\u001b[38;5;241m1\u001b[39m \u001b[38;5;241m*\u001b[39m log_prob_sum \u001b[38;5;241m/\u001b[39m total_tokens)\n",
      "\u001b[0;31mException\u001b[0m: Zero probability encountered! Apply unknown word handling"
     ]
    }
   ],
   "source": [
    "unk_train = handle_unknown_words(unigram_freq=unigram_freq, threshold=1, tokenList=train)\n",
    "unigram_freq_unk, total_unigrams_unk, bigram_freq_unk, total_bigrams_unk = CorpusCount(unk_train)\n",
    "ugm2 = UnigramModel(unigram_freq=unigram_freq_unk, total_unigrams=total_unigrams_unk)\n",
    "bgm2 = BigramModel(bigram_freq=bigram_freq_unk, total_bigrams=total_bigrams_unk, unigram_model=ugm2)\n",
    "\n",
    "print(\"PPL for unknown word handled Unigram model is {}\".format(str(ugm2.ppl(test_tokens=test_unigrams,\n",
    "                                                                         total_tokens=test_total_unigrams))))\n",
    "print(\"PPL for unknown word handled Bigram model is {}\".format(str(bgm2.ppl(test_tokens=test_bigrams,\n",
    "                                                                        total_tokens=test_total_bigrams))))"
   ]
  },
  {
   "cell_type": "markdown",
   "id": "54e87826-7ab9-4886-89f6-dbd98ff49679",
   "metadata": {},
   "source": [
    "### Handle Unknown Words for Unigram, Apply Laplace Smoothing for Bigram"
   ]
  },
  {
   "cell_type": "code",
   "execution_count": 9,
   "id": "4f2ad756-c832-4d3d-833d-79ad379974d1",
   "metadata": {},
   "outputs": [
    {
     "name": "stdout",
     "output_type": "stream",
     "text": [
      "PPL for unknown word handled Unigram model is 292.1907013179355\n",
      "PPL for Laplace Smoothed Bigram model is 429.0840622204406\n"
     ]
    }
   ],
   "source": [
    "unk_train = handle_unknown_words(unigram_freq=unigram_freq, threshold=1, tokenList=train)\n",
    "unigram_freq_unk, total_unigrams_unk, bigram_freq_unk, total_bigrams_unk = CorpusCount(unk_train)\n",
    "ugm2 = UnigramModel(unigram_freq=unigram_freq_unk, total_unigrams=total_unigrams_unk)\n",
    "bgm2 = BigramModel(bigram_freq=bigram_freq_unk, total_bigrams=total_bigrams_unk, unigram_model=ugm2)\n",
    "bgm2.set_addk(k=1)\n",
    "\n",
    "print(\"PPL for unknown word handled Unigram model is {}\".format(str(ugm2.ppl(test_tokens=test_unigrams,\n",
    "                                                                         total_tokens=test_total_unigrams))))\n",
    "\n",
    "print(\"PPL for Laplace Smoothed Bigram model is {}\".format(str(bgm2.ppl(test_tokens=test_bigrams,\n",
    "                                                                        total_tokens=test_total_bigrams))))"
   ]
  },
  {
   "cell_type": "markdown",
   "id": "816a93f3-ca4a-40bc-b5e8-ce642f376cbc",
   "metadata": {},
   "source": [
    "## Test Set Perplexity v/s k"
   ]
  },
  {
   "cell_type": "code",
   "execution_count": 10,
   "id": "e6adae8c-d064-4c73-96f2-7b9fcbff8e56",
   "metadata": {},
   "outputs": [],
   "source": [
    "k_vals = [round(i * 0.01, 2) for i in range(1, 1001)]\n",
    "ugm_ppls = []\n",
    "bgm_ppls = []\n",
    "for k in k_vals:\n",
    "    ugm.set_addk(k)\n",
    "    bgm.set_addk(k)\n",
    "    ugm_ppl = ugm.ppl(test_tokens = test_unigrams, total_tokens = test_total_unigrams)\n",
    "    bgm_ppl = bgm.ppl(test_tokens = test_bigrams, total_tokens = test_total_bigrams)\n",
    "    ugm_ppls.append(ugm_ppl)\n",
    "    bgm_ppls.append(bgm_ppl)"
   ]
  },
  {
   "cell_type": "code",
   "execution_count": 11,
   "id": "a882e004-c6b3-4c54-8db7-4bc1f8ab6543",
   "metadata": {},
   "outputs": [
    {
     "data": {
      "image/png": "[encoded data removed]",
      "text/plain": [
       "<Figure size 1000x600 with 1 Axes>"
      ]
     },
     "metadata": {},
     "output_type": "display_data"
    }
   ],
   "source": [
    "# Create the plot\n",
    "fig2, ax2 = plt.subplots(figsize=(10, 6))\n",
    "\n",
    "# Plot both curves on the same axis\n",
    "color1 = 'tab:blue'\n",
    "color2 = 'tab:orange'\n",
    "ax2.set_xlabel('k Value')\n",
    "ax2.set_ylabel('Perplexity')\n",
    "line1, = ax2.plot(k_vals, ugm_ppls, color=color1, label='Test Unigram Perplexity')\n",
    "line2, = ax2.plot(k_vals, bgm_ppls, color=color2, label='Test Bigram Perplexity')\n",
    "\n",
    "# Set the y-axis limits to accommodate both datasets\n",
    "y_min = min(min(ugm_ppls), min(bgm_ppls))\n",
    "y_max = max(max(ugm_ppls), max(bgm_ppls))\n",
    "ax2.set_ylim(y_min, y_max)\n",
    "\n",
    "# Add a title\n",
    "plt.title('k Value v/s Test Unigram and Bigram Perplexity')\n",
    "\n",
    "# Add a legend\n",
    "ax2.legend(loc='upper left')\n",
    "\n",
    "# Add a grid for better readability\n",
    "ax2.grid(True, linestyle='--', alpha=0.7)\n",
    "\n",
    "# Adjust the layout and display the plot\n",
    "fig2.tight_layout()\n",
    "plt.show()"
   ]
  },
  {
   "cell_type": "code",
   "execution_count": null,
   "id": "25455588-f3a7-4532-a18b-e8d1bd37bdd5",
   "metadata": {},
   "outputs": [],
   "source": []
  }
 ],
 "metadata": {
  "kernelspec": {
   "display_name": "Python 3 (ipykernel)",
   "language": "python",
   "name": "python3"
  },
  "language_info": {
   "codemirror_mode": {
    "name": "ipython",
    "version": 3
   },
   "file_extension": ".py",
   "mimetype": "text/x-python",
   "name": "python",
   "nbconvert_exporter": "python",
   "pygments_lexer": "ipython3",
   "version": "3.12.3"
  }
 },
 "nbformat": 4,
 "nbformat_minor": 5
}
